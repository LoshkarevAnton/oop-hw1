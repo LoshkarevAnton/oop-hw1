{
  "nbformat": 4,
  "nbformat_minor": 0,
  "metadata": {
    "colab": {
      "name": "Loshkarev_OOP HW1.ipynb",
      "provenance": [],
      "collapsed_sections": []
    },
    "kernelspec": {
      "name": "python3",
      "display_name": "Python 3"
    },
    "language_info": {
      "name": "python"
    }
  },
  "cells": [
    {
      "cell_type": "code",
      "execution_count": 1,
      "metadata": {
        "colab": {
          "base_uri": "https://localhost:8080/"
        },
        "id": "suCgD_YxxZuv",
        "outputId": "84f40a22-2fb6-446b-80dd-29bda13784ea"
      },
      "outputs": [
        {
          "output_type": "stream",
          "name": "stdout",
          "text": [
            "--2022-06-15 23:51:36--  https://gist.githubusercontent.com/NooblyRand0m/404c8a252f89862654c3fa6bba3d8bc3/raw/26c97aa3876ef33f3509e3b1209402c5c138f06c/coursera_week3_cars.csv\n",
            "Resolving gist.githubusercontent.com (gist.githubusercontent.com)... 185.199.108.133, 185.199.109.133, 185.199.111.133, ...\n",
            "Connecting to gist.githubusercontent.com (gist.githubusercontent.com)|185.199.108.133|:443... connected.\n",
            "HTTP request sent, awaiting response... 200 OK\n",
            "Length: 287 [text/plain]\n",
            "Saving to: ‘coursera_week3_cars.csv’\n",
            "\n",
            "coursera_week3_cars 100%[===================>]     287  --.-KB/s    in 0s      \n",
            "\n",
            "2022-06-15 23:51:36 (10.3 MB/s) - ‘coursera_week3_cars.csv’ saved [287/287]\n",
            "\n"
          ]
        }
      ],
      "source": [
        "!wget https://gist.githubusercontent.com/NooblyRand0m/404c8a252f89862654c3fa6bba3d8bc3/raw/26c97aa3876ef33f3509e3b1209402c5c138f06c/coursera_week3_cars.csv"
      ]
    },
    {
      "cell_type": "code",
      "source": [
        "!head coursera_week3_cars.csv"
      ],
      "metadata": {
        "colab": {
          "base_uri": "https://localhost:8080/"
        },
        "id": "_0pEwpiEx9Ac",
        "outputId": "8145407d-672c-405b-c3f8-68dec3b8dede"
      },
      "execution_count": 3,
      "outputs": [
        {
          "output_type": "stream",
          "name": "stdout",
          "text": [
            "car_type;brand;passenger_seats_count;photo_file_name;body_whl;carrying;extra\n",
            "car;Nissan xTtrail;4;f1.jpeg;;2.5;\n",
            "truck;Man;;f2.png;8x3x2.5;20;\n",
            "truck;Man;;f2.png;;20;\n",
            "car;Mazda 6;4;f3.jpeg;;2.5;\n",
            ";;;\n",
            "spec_machine;Hitachi;;f4;;1.2;Легкая техника для уборки снега\n",
            "\n"
          ]
        }
      ]
    },
    {
      "cell_type": "code",
      "source": [
        "import csv\n",
        "import os"
      ],
      "metadata": {
        "id": "XP5_b0qFx_N0"
      },
      "execution_count": 130,
      "outputs": []
    },
    {
      "cell_type": "code",
      "source": [
        "csv_filename = 'coursera_week3_cars.csv'\n",
        "\n",
        "with open(csv_filename) as csv_fd:\n",
        "    reader = csv.reader(csv_fd, delimiter=';')\n",
        "    next(reader)  # пропускаем заголовок\n",
        "    for row in reader:\n",
        "        print(row) # Любуемся данными, пригодится"
      ],
      "metadata": {
        "colab": {
          "base_uri": "https://localhost:8080/"
        },
        "id": "X5c3uYVzyjrl",
        "outputId": "991d443d-5a96-4fa1-9653-7a2e48c6ca4c"
      },
      "execution_count": 8,
      "outputs": [
        {
          "output_type": "stream",
          "name": "stdout",
          "text": [
            "['car', 'Nissan xTtrail', '4', 'f1.jpeg', '', '2.5', '']\n",
            "['truck', 'Man', '', 'f2.png', '8x3x2.5', '20', '']\n",
            "['truck', 'Man', '', 'f2.png', '', '20', '']\n",
            "['car', 'Mazda 6', '4', 'f3.jpeg', '', '2.5', '']\n",
            "['', '', '', '']\n",
            "['spec_machine', 'Hitachi', '', 'f4', '', '1.2', 'Легкая техника для уборки снега']\n",
            "[]\n"
          ]
        }
      ]
    },
    {
      "cell_type": "code",
      "source": [
        "class CarBase:\n",
        "    def __init__(self, brand: str, photo_file_name: str, carrying: float):\n",
        "        #assert photo_file_name.endswith((\".jpg\", \".png\", \".bmp\", \".jpeg\", \".heic\")) # Чтобы не было просто \"f4\", как в таблице (базовая проверка не проходится, если включить :( ))\n",
        "        self.brand = brand\n",
        "        self.photo_file_name = photo_file_name\n",
        "        self.carrying = carrying\n",
        "    \n",
        "    def get_photo_file_ext(self):\n",
        "        return os.path.splitext(self.photo_file_name)[1]\n",
        "\n",
        "\n",
        "class Car(CarBase):\n",
        "    def __init__(self, brand: str, photo_file_name: str, carrying: float,  passenger_seats_count: int,):\n",
        "        super().__init__(brand, photo_file_name, carrying)\n",
        "        self.car_type = \"car\"\n",
        "        assert 0 < int(passenger_seats_count) < 21 # Место должно быть хотя бы одно. Минивэны бывают до 20 мест (загуглил), а вот в автобус мы нашу car превращать не хотим :)\n",
        "        self.passenger_seats_count = passenger_seats_count\n",
        "        \n",
        "\n",
        "        \n",
        "\n",
        "\n",
        "class Truck(CarBase):\n",
        "    def __init__(self, brand: str, photo_file_name: str, carrying: float, body_whl: float):\n",
        "        super().__init__(brand, photo_file_name, carrying)\n",
        "        self.car_type = \"truck\"\n",
        "        self.body_whl = body_whl\n",
        "        size = self.body_whl.split(\"x\")\n",
        "        self.body_length = float(size[0])\n",
        "        self.body_width = float(size[1])\n",
        "        self.body_height = float(size[2])\n",
        "        assert float(carrying) < 50 # Я так понял, что carrying в данном случае — масса автомобиля. 50-тонный грузовик — несколько странно, пусть он будет до этого числа!\n",
        "\n",
        "    def get_body_volume(self):\n",
        "        return float(self.body_length) * float(self.body_width) * float(self.body_height)\n",
        "\n",
        "        \n",
        "\n",
        "\n",
        "\n",
        "class SpecMachine(CarBase):\n",
        "    def __init__(self, brand: str, photo_file_name: str, carrying: float, extra: str):\n",
        "        super().__init__(brand, photo_file_name, carrying)\n",
        "        self.car_type = \"spec_machine\"\n",
        "        self.extra = extra\n",
        "        assert len(self.extra) < 100 # Extra должно содержать краткие пояснения!\n",
        "        \n",
        "\n",
        "\n",
        "\n",
        "def get_car_list(csv_filename):\n",
        "    car_list =[]\n",
        "    with open(csv_filename) as csv_fd:\n",
        "        reader = csv.reader(csv_fd, delimiter=';')\n",
        "        next(reader)  # пропускаем заголовок\n",
        "        for row in reader:\n",
        "            try:\n",
        "                if row[0] == \"car\":\n",
        "                    try:\n",
        "                        car = Car(brand = row[1], passenger_seats_count = row[2], photo_file_name = row[3], carrying = row[5])\n",
        "                        car_list.append(car)\n",
        "                    except:\n",
        "                        pass\n",
        "                elif row[0] == \"truck\":\n",
        "                    try:\n",
        "                        car = Truck(brand = row[1], photo_file_name = row [3], body_whl = row[4], carrying = row[5])\n",
        "                        car_list.append(car)\n",
        "                    except:\n",
        "                        pass\n",
        "                elif row[0] == \"spec_machine\":\n",
        "                    try:\n",
        "                        car = SpecMachine(brand = row[1], photo_file_name = row[3], carrying = row[5], extra = row[6])\n",
        "                        car_list.append(car)\n",
        "                    except:\n",
        "                        pass\n",
        "            except:\n",
        "                pass\n",
        "\n",
        "    return car_list"
      ],
      "metadata": {
        "id": "kknvsNzwy50k"
      },
      "execution_count": 334,
      "outputs": []
    },
    {
      "cell_type": "code",
      "source": [
        "car = Car('Bugatti Veyron', 'bugatti.png', '0.312', '2')\n",
        "print(car.car_type, car.brand, car.photo_file_name, car.carrying, car.passenger_seats_count, sep='\\n')\n",
        "# car\n",
        "# Bugatti Veyron\n",
        "# bugatti.png\n",
        "# 0.312\n",
        "# 2"
      ],
      "metadata": {
        "colab": {
          "base_uri": "https://localhost:8080/"
        },
        "id": "Kja2UuO5Bnj5",
        "outputId": "cd7ae3ca-30cc-4032-a29f-efefb4ac1342"
      },
      "execution_count": 328,
      "outputs": [
        {
          "output_type": "stream",
          "name": "stdout",
          "text": [
            "car\n",
            "Bugatti Veyron\n",
            "bugatti.png\n",
            "0.312\n",
            "2\n"
          ]
        }
      ]
    },
    {
      "cell_type": "code",
      "source": [
        "truck = Truck('Nissan', 'nissan.jpeg', '1.5', '3.92x2.09x1.87')\n",
        "print(truck.car_type, truck.brand, truck.photo_file_name, truck.body_length, truck.body_width, truck.body_height, sep='\\n')\n",
        "# truck\n",
        "# Nissan\n",
        "# nissan.jpeg\n",
        "# 3.92\n",
        "# 2.09\n",
        "# 1.87"
      ],
      "metadata": {
        "colab": {
          "base_uri": "https://localhost:8080/"
        },
        "id": "EEdIN9_ZHElW",
        "outputId": "26a8e60a-a065-4a26-9fc9-086bde9fe1bb"
      },
      "execution_count": 329,
      "outputs": [
        {
          "output_type": "stream",
          "name": "stdout",
          "text": [
            "truck\n",
            "Nissan\n",
            "nissan.jpeg\n",
            "3.92\n",
            "2.09\n",
            "1.87\n"
          ]
        }
      ]
    },
    {
      "cell_type": "code",
      "source": [
        "spec_machine = SpecMachine('Komatsu-D355', 'd355.jpg', '93', 'pipelayer specs')\n",
        "print(spec_machine.car_type, spec_machine.brand, spec_machine.carrying, spec_machine.photo_file_name, spec_machine.extra, sep='\\n')\n",
        "# spec_machine\n",
        "# Komatsu-D355\n",
        "# 93.0\n",
        "# d355.jpg\n",
        "# pipelayer specs"
      ],
      "metadata": {
        "colab": {
          "base_uri": "https://localhost:8080/"
        },
        "id": "qoSMvbKMKSNV",
        "outputId": "c96b411e-92c9-463f-e8e3-197ba1841447"
      },
      "execution_count": 330,
      "outputs": [
        {
          "output_type": "stream",
          "name": "stdout",
          "text": [
            "spec_machine\n",
            "Komatsu-D355\n",
            "93\n",
            "d355.jpg\n",
            "pipelayer specs\n"
          ]
        }
      ]
    },
    {
      "cell_type": "code",
      "source": [
        "spec_machine.get_photo_file_ext()\n",
        "# '.jpg'"
      ],
      "metadata": {
        "colab": {
          "base_uri": "https://localhost:8080/",
          "height": 36
        },
        "id": "sGmNSi67KW9F",
        "outputId": "ad1c2223-9160-4c86-9a1c-9b7be6b27ef4"
      },
      "execution_count": 331,
      "outputs": [
        {
          "output_type": "execute_result",
          "data": {
            "text/plain": [
              "'.jpg'"
            ],
            "application/vnd.google.colaboratory.intrinsic+json": {
              "type": "string"
            }
          },
          "metadata": {},
          "execution_count": 331
        }
      ]
    },
    {
      "cell_type": "code",
      "source": [
        "cars = get_car_list('coursera_week3_cars.csv')\n",
        "len(cars)\n",
        "# 4"
      ],
      "metadata": {
        "colab": {
          "base_uri": "https://localhost:8080/"
        },
        "id": "W9IO53H5KbKF",
        "outputId": "3b7cc894-1c1a-4b9b-8ba9-72af7c155f3f"
      },
      "execution_count": 336,
      "outputs": [
        {
          "output_type": "execute_result",
          "data": {
            "text/plain": [
              "4"
            ]
          },
          "metadata": {},
          "execution_count": 336
        }
      ]
    },
    {
      "cell_type": "code",
      "source": [
        "cars[0].passenger_seats_count\n",
        "# 4"
      ],
      "metadata": {
        "colab": {
          "base_uri": "https://localhost:8080/",
          "height": 36
        },
        "id": "4Eiqr6cSK1M9",
        "outputId": "e8aa4b6a-674b-42ce-ef30-308309da962f"
      },
      "execution_count": 335,
      "outputs": [
        {
          "output_type": "execute_result",
          "data": {
            "text/plain": [
              "'4'"
            ],
            "application/vnd.google.colaboratory.intrinsic+json": {
              "type": "string"
            }
          },
          "metadata": {},
          "execution_count": 335
        }
      ]
    },
    {
      "cell_type": "code",
      "source": [
        "cars[1].get_body_volume()\n",
        "# 60.0"
      ],
      "metadata": {
        "colab": {
          "base_uri": "https://localhost:8080/"
        },
        "id": "iIW-StyiK3-l",
        "outputId": "3094ea0f-e2b7-4520-e053-b6b80c9c9e3b"
      },
      "execution_count": 326,
      "outputs": [
        {
          "output_type": "execute_result",
          "data": {
            "text/plain": [
              "60.0"
            ]
          },
          "metadata": {},
          "execution_count": 326
        }
      ]
    }
  ]
}